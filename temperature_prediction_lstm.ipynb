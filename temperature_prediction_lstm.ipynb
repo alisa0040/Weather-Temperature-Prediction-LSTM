{
  "cells": [
    {
      "cell_type": "markdown",
      "metadata": {
        "id": "view-in-github",
        "colab_type": "text"
      },
      "source": [
        "<a href=\"https://colab.research.google.com/github/alisa0040/Weather-Temperature-Prediction-LSTM/blob/main/temperature_prediction_lstm.ipynb\" target=\"_parent\"><img src=\"https://colab.research.google.com/assets/colab-badge.svg\" alt=\"Open In Colab\"/></a>"
      ]
    },
    {
      "cell_type": "code",
      "execution_count": 1,
      "metadata": {
        "colab": {
          "base_uri": "https://localhost:8080/"
        },
        "id": "K2kl5ksa1_yJ",
        "outputId": "b89b88d5-1858-41ec-b338-81dc6041c4f8"
      },
      "outputs": [
        {
          "output_type": "stream",
          "name": "stdout",
          "text": [
            "Path to dataset files: /kaggle/input/weather-long-term-time-series-forecasting\n"
          ]
        }
      ],
      "source": [
        "import kagglehub\n",
        "import numpy as np\n",
        "import pandas as pd\n",
        "import matplotlib.pyplot as plt\n",
        "from sklearn.model_selection import train_test_split\n",
        "from sklearn.preprocessing import MinMaxScaler\n",
        "from tensorflow.keras.models import Sequential\n",
        "from tensorflow.keras.layers import LSTM, Dense,Dropout,BatchNormalization,Bidirectional\n",
        "from tensorflow.keras.optimizers import Adam\n",
        "from tensorflow.keras.optimizers import RMSprop\n",
        "\n",
        "# Download latest version\n",
        "path = kagglehub.dataset_download(\"alistairking/weather-long-term-time-series-forecasting\")\n",
        "\n",
        "print(\"Path to dataset files:\", path)"
      ]
    },
    {
      "cell_type": "code",
      "execution_count": 2,
      "metadata": {
        "colab": {
          "base_uri": "https://localhost:8080/"
        },
        "id": "wB7-cIc72IKh",
        "outputId": "4bcac62c-d9c9-4b3b-e4c2-b81fe64fa78e"
      },
      "outputs": [
        {
          "output_type": "stream",
          "name": "stdout",
          "text": [
            "Mounted at /content/drive\n"
          ]
        }
      ],
      "source": [
        "from google.colab import drive\n",
        "drive.mount('/content/drive')"
      ]
    },
    {
      "cell_type": "code",
      "execution_count": 7,
      "metadata": {
        "colab": {
          "base_uri": "https://localhost:8080/",
          "height": 440
        },
        "id": "TQIuNckY2J7A",
        "outputId": "f06af00e-0bc5-40bb-9987-0fdd57e765d0"
      },
      "outputs": [
        {
          "output_type": "execute_result",
          "data": {
            "text/plain": [
              "                  date        p     T    Tpot  Tdew    rh  VPmax  VPact  \\\n",
              "0  2020-01-01 00:10:00  1008.89  0.71  273.18 -1.33  86.1   6.43   5.54   \n",
              "1  2020-01-01 00:20:00  1008.76  0.75  273.22 -1.44  85.2   6.45   5.49   \n",
              "2  2020-01-01 00:30:00  1008.66  0.73  273.21 -1.48  85.1   6.44   5.48   \n",
              "3  2020-01-01 00:40:00  1008.64  0.37  272.86 -1.64  86.3   6.27   5.41   \n",
              "4  2020-01-01 00:50:00  1008.61  0.33  272.82 -1.50  87.4   6.26   5.47   \n",
              "\n",
              "   VPdef    sh  ...      rho    wv  max. wv     wd  rain  raining  SWDR  PAR  \\\n",
              "0   0.89  3.42  ...  1280.62  1.02     1.60  224.3   0.0      0.0   0.0  0.0   \n",
              "1   0.95  3.39  ...  1280.33  0.43     0.84  206.8   0.0      0.0   0.0  0.0   \n",
              "2   0.96  3.39  ...  1280.29  0.61     1.48  197.1   0.0      0.0   0.0  0.0   \n",
              "3   0.86  3.35  ...  1281.97  1.11     1.48  206.4   0.0      0.0   0.0  0.0   \n",
              "4   0.79  3.38  ...  1282.08  0.49     1.40  209.6   0.0      0.0   0.0  0.0   \n",
              "\n",
              "   max. PAR   Tlog  \n",
              "0       0.0  11.45  \n",
              "1       0.0  11.51  \n",
              "2       0.0  11.60  \n",
              "3       0.0  11.70  \n",
              "4       0.0  11.81  \n",
              "\n",
              "[5 rows x 21 columns]"
            ],
            "text/html": [
              "\n",
              "  <div id=\"df-ab7805de-126b-4481-b4f8-cdea83c4c315\" class=\"colab-df-container\">\n",
              "    <div>\n",
              "<style scoped>\n",
              "    .dataframe tbody tr th:only-of-type {\n",
              "        vertical-align: middle;\n",
              "    }\n",
              "\n",
              "    .dataframe tbody tr th {\n",
              "        vertical-align: top;\n",
              "    }\n",
              "\n",
              "    .dataframe thead th {\n",
              "        text-align: right;\n",
              "    }\n",
              "</style>\n",
              "<table border=\"1\" class=\"dataframe\">\n",
              "  <thead>\n",
              "    <tr style=\"text-align: right;\">\n",
              "      <th></th>\n",
              "      <th>date</th>\n",
              "      <th>p</th>\n",
              "      <th>T</th>\n",
              "      <th>Tpot</th>\n",
              "      <th>Tdew</th>\n",
              "      <th>rh</th>\n",
              "      <th>VPmax</th>\n",
              "      <th>VPact</th>\n",
              "      <th>VPdef</th>\n",
              "      <th>sh</th>\n",
              "      <th>...</th>\n",
              "      <th>rho</th>\n",
              "      <th>wv</th>\n",
              "      <th>max. wv</th>\n",
              "      <th>wd</th>\n",
              "      <th>rain</th>\n",
              "      <th>raining</th>\n",
              "      <th>SWDR</th>\n",
              "      <th>PAR</th>\n",
              "      <th>max. PAR</th>\n",
              "      <th>Tlog</th>\n",
              "    </tr>\n",
              "  </thead>\n",
              "  <tbody>\n",
              "    <tr>\n",
              "      <th>0</th>\n",
              "      <td>2020-01-01 00:10:00</td>\n",
              "      <td>1008.89</td>\n",
              "      <td>0.71</td>\n",
              "      <td>273.18</td>\n",
              "      <td>-1.33</td>\n",
              "      <td>86.1</td>\n",
              "      <td>6.43</td>\n",
              "      <td>5.54</td>\n",
              "      <td>0.89</td>\n",
              "      <td>3.42</td>\n",
              "      <td>...</td>\n",
              "      <td>1280.62</td>\n",
              "      <td>1.02</td>\n",
              "      <td>1.60</td>\n",
              "      <td>224.3</td>\n",
              "      <td>0.0</td>\n",
              "      <td>0.0</td>\n",
              "      <td>0.0</td>\n",
              "      <td>0.0</td>\n",
              "      <td>0.0</td>\n",
              "      <td>11.45</td>\n",
              "    </tr>\n",
              "    <tr>\n",
              "      <th>1</th>\n",
              "      <td>2020-01-01 00:20:00</td>\n",
              "      <td>1008.76</td>\n",
              "      <td>0.75</td>\n",
              "      <td>273.22</td>\n",
              "      <td>-1.44</td>\n",
              "      <td>85.2</td>\n",
              "      <td>6.45</td>\n",
              "      <td>5.49</td>\n",
              "      <td>0.95</td>\n",
              "      <td>3.39</td>\n",
              "      <td>...</td>\n",
              "      <td>1280.33</td>\n",
              "      <td>0.43</td>\n",
              "      <td>0.84</td>\n",
              "      <td>206.8</td>\n",
              "      <td>0.0</td>\n",
              "      <td>0.0</td>\n",
              "      <td>0.0</td>\n",
              "      <td>0.0</td>\n",
              "      <td>0.0</td>\n",
              "      <td>11.51</td>\n",
              "    </tr>\n",
              "    <tr>\n",
              "      <th>2</th>\n",
              "      <td>2020-01-01 00:30:00</td>\n",
              "      <td>1008.66</td>\n",
              "      <td>0.73</td>\n",
              "      <td>273.21</td>\n",
              "      <td>-1.48</td>\n",
              "      <td>85.1</td>\n",
              "      <td>6.44</td>\n",
              "      <td>5.48</td>\n",
              "      <td>0.96</td>\n",
              "      <td>3.39</td>\n",
              "      <td>...</td>\n",
              "      <td>1280.29</td>\n",
              "      <td>0.61</td>\n",
              "      <td>1.48</td>\n",
              "      <td>197.1</td>\n",
              "      <td>0.0</td>\n",
              "      <td>0.0</td>\n",
              "      <td>0.0</td>\n",
              "      <td>0.0</td>\n",
              "      <td>0.0</td>\n",
              "      <td>11.60</td>\n",
              "    </tr>\n",
              "    <tr>\n",
              "      <th>3</th>\n",
              "      <td>2020-01-01 00:40:00</td>\n",
              "      <td>1008.64</td>\n",
              "      <td>0.37</td>\n",
              "      <td>272.86</td>\n",
              "      <td>-1.64</td>\n",
              "      <td>86.3</td>\n",
              "      <td>6.27</td>\n",
              "      <td>5.41</td>\n",
              "      <td>0.86</td>\n",
              "      <td>3.35</td>\n",
              "      <td>...</td>\n",
              "      <td>1281.97</td>\n",
              "      <td>1.11</td>\n",
              "      <td>1.48</td>\n",
              "      <td>206.4</td>\n",
              "      <td>0.0</td>\n",
              "      <td>0.0</td>\n",
              "      <td>0.0</td>\n",
              "      <td>0.0</td>\n",
              "      <td>0.0</td>\n",
              "      <td>11.70</td>\n",
              "    </tr>\n",
              "    <tr>\n",
              "      <th>4</th>\n",
              "      <td>2020-01-01 00:50:00</td>\n",
              "      <td>1008.61</td>\n",
              "      <td>0.33</td>\n",
              "      <td>272.82</td>\n",
              "      <td>-1.50</td>\n",
              "      <td>87.4</td>\n",
              "      <td>6.26</td>\n",
              "      <td>5.47</td>\n",
              "      <td>0.79</td>\n",
              "      <td>3.38</td>\n",
              "      <td>...</td>\n",
              "      <td>1282.08</td>\n",
              "      <td>0.49</td>\n",
              "      <td>1.40</td>\n",
              "      <td>209.6</td>\n",
              "      <td>0.0</td>\n",
              "      <td>0.0</td>\n",
              "      <td>0.0</td>\n",
              "      <td>0.0</td>\n",
              "      <td>0.0</td>\n",
              "      <td>11.81</td>\n",
              "    </tr>\n",
              "  </tbody>\n",
              "</table>\n",
              "<p>5 rows × 21 columns</p>\n",
              "</div>\n",
              "    <div class=\"colab-df-buttons\">\n",
              "\n",
              "  <div class=\"colab-df-container\">\n",
              "    <button class=\"colab-df-convert\" onclick=\"convertToInteractive('df-ab7805de-126b-4481-b4f8-cdea83c4c315')\"\n",
              "            title=\"Convert this dataframe to an interactive table.\"\n",
              "            style=\"display:none;\">\n",
              "\n",
              "  <svg xmlns=\"http://www.w3.org/2000/svg\" height=\"24px\" viewBox=\"0 -960 960 960\">\n",
              "    <path d=\"M120-120v-720h720v720H120Zm60-500h600v-160H180v160Zm220 220h160v-160H400v160Zm0 220h160v-160H400v160ZM180-400h160v-160H180v160Zm440 0h160v-160H620v160ZM180-180h160v-160H180v160Zm440 0h160v-160H620v160Z\"/>\n",
              "  </svg>\n",
              "    </button>\n",
              "\n",
              "  <style>\n",
              "    .colab-df-container {\n",
              "      display:flex;\n",
              "      gap: 12px;\n",
              "    }\n",
              "\n",
              "    .colab-df-convert {\n",
              "      background-color: #E8F0FE;\n",
              "      border: none;\n",
              "      border-radius: 50%;\n",
              "      cursor: pointer;\n",
              "      display: none;\n",
              "      fill: #1967D2;\n",
              "      height: 32px;\n",
              "      padding: 0 0 0 0;\n",
              "      width: 32px;\n",
              "    }\n",
              "\n",
              "    .colab-df-convert:hover {\n",
              "      background-color: #E2EBFA;\n",
              "      box-shadow: 0px 1px 2px rgba(60, 64, 67, 0.3), 0px 1px 3px 1px rgba(60, 64, 67, 0.15);\n",
              "      fill: #174EA6;\n",
              "    }\n",
              "\n",
              "    .colab-df-buttons div {\n",
              "      margin-bottom: 4px;\n",
              "    }\n",
              "\n",
              "    [theme=dark] .colab-df-convert {\n",
              "      background-color: #3B4455;\n",
              "      fill: #D2E3FC;\n",
              "    }\n",
              "\n",
              "    [theme=dark] .colab-df-convert:hover {\n",
              "      background-color: #434B5C;\n",
              "      box-shadow: 0px 1px 3px 1px rgba(0, 0, 0, 0.15);\n",
              "      filter: drop-shadow(0px 1px 2px rgba(0, 0, 0, 0.3));\n",
              "      fill: #FFFFFF;\n",
              "    }\n",
              "  </style>\n",
              "\n",
              "    <script>\n",
              "      const buttonEl =\n",
              "        document.querySelector('#df-ab7805de-126b-4481-b4f8-cdea83c4c315 button.colab-df-convert');\n",
              "      buttonEl.style.display =\n",
              "        google.colab.kernel.accessAllowed ? 'block' : 'none';\n",
              "\n",
              "      async function convertToInteractive(key) {\n",
              "        const element = document.querySelector('#df-ab7805de-126b-4481-b4f8-cdea83c4c315');\n",
              "        const dataTable =\n",
              "          await google.colab.kernel.invokeFunction('convertToInteractive',\n",
              "                                                    [key], {});\n",
              "        if (!dataTable) return;\n",
              "\n",
              "        const docLinkHtml = 'Like what you see? Visit the ' +\n",
              "          '<a target=\"_blank\" href=https://colab.research.google.com/notebooks/data_table.ipynb>data table notebook</a>'\n",
              "          + ' to learn more about interactive tables.';\n",
              "        element.innerHTML = '';\n",
              "        dataTable['output_type'] = 'display_data';\n",
              "        await google.colab.output.renderOutput(dataTable, element);\n",
              "        const docLink = document.createElement('div');\n",
              "        docLink.innerHTML = docLinkHtml;\n",
              "        element.appendChild(docLink);\n",
              "      }\n",
              "    </script>\n",
              "  </div>\n",
              "\n",
              "\n",
              "    <div id=\"df-e2d66cce-b818-4caa-b08f-dc79eeaba808\">\n",
              "      <button class=\"colab-df-quickchart\" onclick=\"quickchart('df-e2d66cce-b818-4caa-b08f-dc79eeaba808')\"\n",
              "                title=\"Suggest charts\"\n",
              "                style=\"display:none;\">\n",
              "\n",
              "<svg xmlns=\"http://www.w3.org/2000/svg\" height=\"24px\"viewBox=\"0 0 24 24\"\n",
              "     width=\"24px\">\n",
              "    <g>\n",
              "        <path d=\"M19 3H5c-1.1 0-2 .9-2 2v14c0 1.1.9 2 2 2h14c1.1 0 2-.9 2-2V5c0-1.1-.9-2-2-2zM9 17H7v-7h2v7zm4 0h-2V7h2v10zm4 0h-2v-4h2v4z\"/>\n",
              "    </g>\n",
              "</svg>\n",
              "      </button>\n",
              "\n",
              "<style>\n",
              "  .colab-df-quickchart {\n",
              "      --bg-color: #E8F0FE;\n",
              "      --fill-color: #1967D2;\n",
              "      --hover-bg-color: #E2EBFA;\n",
              "      --hover-fill-color: #174EA6;\n",
              "      --disabled-fill-color: #AAA;\n",
              "      --disabled-bg-color: #DDD;\n",
              "  }\n",
              "\n",
              "  [theme=dark] .colab-df-quickchart {\n",
              "      --bg-color: #3B4455;\n",
              "      --fill-color: #D2E3FC;\n",
              "      --hover-bg-color: #434B5C;\n",
              "      --hover-fill-color: #FFFFFF;\n",
              "      --disabled-bg-color: #3B4455;\n",
              "      --disabled-fill-color: #666;\n",
              "  }\n",
              "\n",
              "  .colab-df-quickchart {\n",
              "    background-color: var(--bg-color);\n",
              "    border: none;\n",
              "    border-radius: 50%;\n",
              "    cursor: pointer;\n",
              "    display: none;\n",
              "    fill: var(--fill-color);\n",
              "    height: 32px;\n",
              "    padding: 0;\n",
              "    width: 32px;\n",
              "  }\n",
              "\n",
              "  .colab-df-quickchart:hover {\n",
              "    background-color: var(--hover-bg-color);\n",
              "    box-shadow: 0 1px 2px rgba(60, 64, 67, 0.3), 0 1px 3px 1px rgba(60, 64, 67, 0.15);\n",
              "    fill: var(--button-hover-fill-color);\n",
              "  }\n",
              "\n",
              "  .colab-df-quickchart-complete:disabled,\n",
              "  .colab-df-quickchart-complete:disabled:hover {\n",
              "    background-color: var(--disabled-bg-color);\n",
              "    fill: var(--disabled-fill-color);\n",
              "    box-shadow: none;\n",
              "  }\n",
              "\n",
              "  .colab-df-spinner {\n",
              "    border: 2px solid var(--fill-color);\n",
              "    border-color: transparent;\n",
              "    border-bottom-color: var(--fill-color);\n",
              "    animation:\n",
              "      spin 1s steps(1) infinite;\n",
              "  }\n",
              "\n",
              "  @keyframes spin {\n",
              "    0% {\n",
              "      border-color: transparent;\n",
              "      border-bottom-color: var(--fill-color);\n",
              "      border-left-color: var(--fill-color);\n",
              "    }\n",
              "    20% {\n",
              "      border-color: transparent;\n",
              "      border-left-color: var(--fill-color);\n",
              "      border-top-color: var(--fill-color);\n",
              "    }\n",
              "    30% {\n",
              "      border-color: transparent;\n",
              "      border-left-color: var(--fill-color);\n",
              "      border-top-color: var(--fill-color);\n",
              "      border-right-color: var(--fill-color);\n",
              "    }\n",
              "    40% {\n",
              "      border-color: transparent;\n",
              "      border-right-color: var(--fill-color);\n",
              "      border-top-color: var(--fill-color);\n",
              "    }\n",
              "    60% {\n",
              "      border-color: transparent;\n",
              "      border-right-color: var(--fill-color);\n",
              "    }\n",
              "    80% {\n",
              "      border-color: transparent;\n",
              "      border-right-color: var(--fill-color);\n",
              "      border-bottom-color: var(--fill-color);\n",
              "    }\n",
              "    90% {\n",
              "      border-color: transparent;\n",
              "      border-bottom-color: var(--fill-color);\n",
              "    }\n",
              "  }\n",
              "</style>\n",
              "\n",
              "      <script>\n",
              "        async function quickchart(key) {\n",
              "          const quickchartButtonEl =\n",
              "            document.querySelector('#' + key + ' button');\n",
              "          quickchartButtonEl.disabled = true;  // To prevent multiple clicks.\n",
              "          quickchartButtonEl.classList.add('colab-df-spinner');\n",
              "          try {\n",
              "            const charts = await google.colab.kernel.invokeFunction(\n",
              "                'suggestCharts', [key], {});\n",
              "          } catch (error) {\n",
              "            console.error('Error during call to suggestCharts:', error);\n",
              "          }\n",
              "          quickchartButtonEl.classList.remove('colab-df-spinner');\n",
              "          quickchartButtonEl.classList.add('colab-df-quickchart-complete');\n",
              "        }\n",
              "        (() => {\n",
              "          let quickchartButtonEl =\n",
              "            document.querySelector('#df-e2d66cce-b818-4caa-b08f-dc79eeaba808 button');\n",
              "          quickchartButtonEl.style.display =\n",
              "            google.colab.kernel.accessAllowed ? 'block' : 'none';\n",
              "        })();\n",
              "      </script>\n",
              "    </div>\n",
              "\n",
              "    </div>\n",
              "  </div>\n"
            ],
            "application/vnd.google.colaboratory.intrinsic+json": {
              "type": "dataframe",
              "variable_name": "df"
            }
          },
          "metadata": {},
          "execution_count": 7
        }
      ],
      "source": [
        "import pandas as pd\n",
        "\n",
        "path = \"/kaggle/input/weather-long-term-time-series-forecasting\"\n",
        "\n",
        "df = pd.read_csv(f\"{path}/cleaned_weather.csv\")\n",
        "\n",
        "df.head()"
      ]
    },
    {
      "cell_type": "code",
      "execution_count": 8,
      "metadata": {
        "colab": {
          "base_uri": "https://localhost:8080/"
        },
        "id": "VzcDSj_a2Lpo",
        "outputId": "b7c4fa6c-acea-4b9d-e2ea-421b8fe162f7"
      },
      "outputs": [
        {
          "output_type": "execute_result",
          "data": {
            "text/plain": [
              "(52696, 21)"
            ]
          },
          "metadata": {},
          "execution_count": 8
        }
      ],
      "source": [
        "df.shape"
      ]
    },
    {
      "cell_type": "code",
      "execution_count": 9,
      "metadata": {
        "colab": {
          "base_uri": "https://localhost:8080/"
        },
        "id": "18m93KZo2NWB",
        "outputId": "0b6258dd-3350-412a-aa08-ff9a687d6802"
      },
      "outputs": [
        {
          "output_type": "stream",
          "name": "stdout",
          "text": [
            "<class 'pandas.core.frame.DataFrame'>\n",
            "RangeIndex: 52696 entries, 0 to 52695\n",
            "Data columns (total 21 columns):\n",
            " #   Column    Non-Null Count  Dtype  \n",
            "---  ------    --------------  -----  \n",
            " 0   date      52696 non-null  object \n",
            " 1   p         52696 non-null  float64\n",
            " 2   T         52696 non-null  float64\n",
            " 3   Tpot      52696 non-null  float64\n",
            " 4   Tdew      52696 non-null  float64\n",
            " 5   rh        52696 non-null  float64\n",
            " 6   VPmax     52696 non-null  float64\n",
            " 7   VPact     52696 non-null  float64\n",
            " 8   VPdef     52696 non-null  float64\n",
            " 9   sh        52696 non-null  float64\n",
            " 10  H2OC      52696 non-null  float64\n",
            " 11  rho       52696 non-null  float64\n",
            " 12  wv        52696 non-null  float64\n",
            " 13  max. wv   52696 non-null  float64\n",
            " 14  wd        52696 non-null  float64\n",
            " 15  rain      52696 non-null  float64\n",
            " 16  raining   52696 non-null  float64\n",
            " 17  SWDR      52696 non-null  float64\n",
            " 18  PAR       52696 non-null  float64\n",
            " 19  max. PAR  52696 non-null  float64\n",
            " 20  Tlog      52696 non-null  float64\n",
            "dtypes: float64(20), object(1)\n",
            "memory usage: 8.4+ MB\n"
          ]
        }
      ],
      "source": [
        "df.info()"
      ]
    },
    {
      "cell_type": "code",
      "execution_count": 10,
      "metadata": {
        "colab": {
          "base_uri": "https://localhost:8080/"
        },
        "id": "KoCbY_mz2PtU",
        "outputId": "d37d51d3-b115-4b45-9482-ebca549f448d"
      },
      "outputs": [
        {
          "output_type": "execute_result",
          "data": {
            "text/plain": [
              "Index(['date', 'p', 'T', 'Tpot', 'Tdew', 'rh', 'VPmax', 'VPact', 'VPdef', 'sh',\n",
              "       'H2OC', 'rho', 'wv', 'max. wv', 'wd', 'rain', 'raining', 'SWDR', 'PAR',\n",
              "       'max. PAR', 'Tlog'],\n",
              "      dtype='object')"
            ]
          },
          "metadata": {},
          "execution_count": 10
        }
      ],
      "source": [
        "df.columns"
      ]
    },
    {
      "cell_type": "code",
      "execution_count": 11,
      "metadata": {
        "id": "Dm8WPAGU2Rr3"
      },
      "outputs": [],
      "source": [
        "df.set_index('date', inplace=True)"
      ]
    },
    {
      "cell_type": "code",
      "execution_count": 12,
      "metadata": {
        "colab": {
          "base_uri": "https://localhost:8080/"
        },
        "id": "Px_BOwHG2TRM",
        "outputId": "e7c7ac7e-9c14-4759-e564-9b48d5f9606e"
      },
      "outputs": [
        {
          "output_type": "stream",
          "name": "stdout",
          "text": [
            "Duplicate timestamps: 1\n"
          ]
        }
      ],
      "source": [
        "print(\"Duplicate timestamps:\", df.index.duplicated().sum())"
      ]
    },
    {
      "cell_type": "code",
      "execution_count": 13,
      "metadata": {
        "id": "mJaoghol2U-R"
      },
      "outputs": [],
      "source": [
        "df = df[~df.index.duplicated()]"
      ]
    },
    {
      "cell_type": "code",
      "execution_count": 14,
      "metadata": {
        "colab": {
          "base_uri": "https://localhost:8080/",
          "height": 442
        },
        "id": "9KTHAH2k2Wm8",
        "outputId": "3885299f-2feb-48f6-e53e-ff9386e14b84"
      },
      "outputs": [
        {
          "output_type": "execute_result",
          "data": {
            "text/plain": [
              "                            p         T      Tpot      Tdew        rh  \\\n",
              "date                                                                    \n",
              "2020-01-01 00:10:00  2.052840 -1.353486 -1.525204 -1.131385  0.707921   \n",
              "2020-01-01 00:20:00  2.038720 -1.348130 -1.519953 -1.149852  0.661120   \n",
              "2020-01-01 00:30:00  2.027859 -1.350808 -1.521266 -1.156567  0.655919   \n",
              "2020-01-01 00:40:00  2.025687 -1.399011 -1.567217 -1.183428  0.718322   \n",
              "2020-01-01 00:50:00  2.022429 -1.404366 -1.572468 -1.159925  0.775524   \n",
              "\n",
              "                        VPmax     VPact     VPdef        sh      H2OC  \\\n",
              "date                                                                    \n",
              "2020-01-01 00:10:00 -1.055596 -1.028198 -0.707712 -1.050636 -1.051386   \n",
              "2020-01-01 00:20:00 -1.052976 -1.040625 -0.696880 -1.062348 -1.061183   \n",
              "2020-01-01 00:30:00 -1.054286 -1.043111 -0.695075 -1.062348 -1.066082   \n",
              "2020-01-01 00:40:00 -1.076558 -1.060509 -0.713128 -1.077964 -1.080779   \n",
              "2020-01-01 00:50:00 -1.077868 -1.045596 -0.725765 -1.066252 -1.068532   \n",
              "\n",
              "                          rho        wv   max. wv        wd      rain  \\\n",
              "date                                                                    \n",
              "2020-01-01 00:10:00  1.914343 -0.022386 -0.825536  0.584404 -0.095494   \n",
              "2020-01-01 00:20:00  1.906383 -0.035919 -1.134172  0.368872 -0.095494   \n",
              "2020-01-01 00:30:00  1.905285 -0.031790 -0.874268  0.249406 -0.095494   \n",
              "2020-01-01 00:40:00  1.951401 -0.020321 -0.874268  0.363946 -0.095494   \n",
              "2020-01-01 00:50:00  1.954421 -0.034543 -0.906756  0.403357 -0.095494   \n",
              "\n",
              "                      raining      SWDR       PAR  max. PAR      Tlog  \n",
              "date                                                                   \n",
              "2020-01-01 00:10:00 -0.232351 -0.608769 -0.614649 -0.541452 -1.292018  \n",
              "2020-01-01 00:20:00 -0.232351 -0.608769 -0.614649 -0.541452 -1.284316  \n",
              "2020-01-01 00:30:00 -0.232351 -0.608769 -0.614649 -0.541452 -1.272764  \n",
              "2020-01-01 00:40:00 -0.232351 -0.608769 -0.614649 -0.541452 -1.259928  \n",
              "2020-01-01 00:50:00 -0.232351 -0.608769 -0.614649 -0.541452 -1.245808  "
            ],
            "text/html": [
              "\n",
              "  <div id=\"df-5063f37d-68dd-4f8b-b446-ea18fc0dd929\" class=\"colab-df-container\">\n",
              "    <div>\n",
              "<style scoped>\n",
              "    .dataframe tbody tr th:only-of-type {\n",
              "        vertical-align: middle;\n",
              "    }\n",
              "\n",
              "    .dataframe tbody tr th {\n",
              "        vertical-align: top;\n",
              "    }\n",
              "\n",
              "    .dataframe thead th {\n",
              "        text-align: right;\n",
              "    }\n",
              "</style>\n",
              "<table border=\"1\" class=\"dataframe\">\n",
              "  <thead>\n",
              "    <tr style=\"text-align: right;\">\n",
              "      <th></th>\n",
              "      <th>p</th>\n",
              "      <th>T</th>\n",
              "      <th>Tpot</th>\n",
              "      <th>Tdew</th>\n",
              "      <th>rh</th>\n",
              "      <th>VPmax</th>\n",
              "      <th>VPact</th>\n",
              "      <th>VPdef</th>\n",
              "      <th>sh</th>\n",
              "      <th>H2OC</th>\n",
              "      <th>rho</th>\n",
              "      <th>wv</th>\n",
              "      <th>max. wv</th>\n",
              "      <th>wd</th>\n",
              "      <th>rain</th>\n",
              "      <th>raining</th>\n",
              "      <th>SWDR</th>\n",
              "      <th>PAR</th>\n",
              "      <th>max. PAR</th>\n",
              "      <th>Tlog</th>\n",
              "    </tr>\n",
              "    <tr>\n",
              "      <th>date</th>\n",
              "      <th></th>\n",
              "      <th></th>\n",
              "      <th></th>\n",
              "      <th></th>\n",
              "      <th></th>\n",
              "      <th></th>\n",
              "      <th></th>\n",
              "      <th></th>\n",
              "      <th></th>\n",
              "      <th></th>\n",
              "      <th></th>\n",
              "      <th></th>\n",
              "      <th></th>\n",
              "      <th></th>\n",
              "      <th></th>\n",
              "      <th></th>\n",
              "      <th></th>\n",
              "      <th></th>\n",
              "      <th></th>\n",
              "      <th></th>\n",
              "    </tr>\n",
              "  </thead>\n",
              "  <tbody>\n",
              "    <tr>\n",
              "      <th>2020-01-01 00:10:00</th>\n",
              "      <td>2.052840</td>\n",
              "      <td>-1.353486</td>\n",
              "      <td>-1.525204</td>\n",
              "      <td>-1.131385</td>\n",
              "      <td>0.707921</td>\n",
              "      <td>-1.055596</td>\n",
              "      <td>-1.028198</td>\n",
              "      <td>-0.707712</td>\n",
              "      <td>-1.050636</td>\n",
              "      <td>-1.051386</td>\n",
              "      <td>1.914343</td>\n",
              "      <td>-0.022386</td>\n",
              "      <td>-0.825536</td>\n",
              "      <td>0.584404</td>\n",
              "      <td>-0.095494</td>\n",
              "      <td>-0.232351</td>\n",
              "      <td>-0.608769</td>\n",
              "      <td>-0.614649</td>\n",
              "      <td>-0.541452</td>\n",
              "      <td>-1.292018</td>\n",
              "    </tr>\n",
              "    <tr>\n",
              "      <th>2020-01-01 00:20:00</th>\n",
              "      <td>2.038720</td>\n",
              "      <td>-1.348130</td>\n",
              "      <td>-1.519953</td>\n",
              "      <td>-1.149852</td>\n",
              "      <td>0.661120</td>\n",
              "      <td>-1.052976</td>\n",
              "      <td>-1.040625</td>\n",
              "      <td>-0.696880</td>\n",
              "      <td>-1.062348</td>\n",
              "      <td>-1.061183</td>\n",
              "      <td>1.906383</td>\n",
              "      <td>-0.035919</td>\n",
              "      <td>-1.134172</td>\n",
              "      <td>0.368872</td>\n",
              "      <td>-0.095494</td>\n",
              "      <td>-0.232351</td>\n",
              "      <td>-0.608769</td>\n",
              "      <td>-0.614649</td>\n",
              "      <td>-0.541452</td>\n",
              "      <td>-1.284316</td>\n",
              "    </tr>\n",
              "    <tr>\n",
              "      <th>2020-01-01 00:30:00</th>\n",
              "      <td>2.027859</td>\n",
              "      <td>-1.350808</td>\n",
              "      <td>-1.521266</td>\n",
              "      <td>-1.156567</td>\n",
              "      <td>0.655919</td>\n",
              "      <td>-1.054286</td>\n",
              "      <td>-1.043111</td>\n",
              "      <td>-0.695075</td>\n",
              "      <td>-1.062348</td>\n",
              "      <td>-1.066082</td>\n",
              "      <td>1.905285</td>\n",
              "      <td>-0.031790</td>\n",
              "      <td>-0.874268</td>\n",
              "      <td>0.249406</td>\n",
              "      <td>-0.095494</td>\n",
              "      <td>-0.232351</td>\n",
              "      <td>-0.608769</td>\n",
              "      <td>-0.614649</td>\n",
              "      <td>-0.541452</td>\n",
              "      <td>-1.272764</td>\n",
              "    </tr>\n",
              "    <tr>\n",
              "      <th>2020-01-01 00:40:00</th>\n",
              "      <td>2.025687</td>\n",
              "      <td>-1.399011</td>\n",
              "      <td>-1.567217</td>\n",
              "      <td>-1.183428</td>\n",
              "      <td>0.718322</td>\n",
              "      <td>-1.076558</td>\n",
              "      <td>-1.060509</td>\n",
              "      <td>-0.713128</td>\n",
              "      <td>-1.077964</td>\n",
              "      <td>-1.080779</td>\n",
              "      <td>1.951401</td>\n",
              "      <td>-0.020321</td>\n",
              "      <td>-0.874268</td>\n",
              "      <td>0.363946</td>\n",
              "      <td>-0.095494</td>\n",
              "      <td>-0.232351</td>\n",
              "      <td>-0.608769</td>\n",
              "      <td>-0.614649</td>\n",
              "      <td>-0.541452</td>\n",
              "      <td>-1.259928</td>\n",
              "    </tr>\n",
              "    <tr>\n",
              "      <th>2020-01-01 00:50:00</th>\n",
              "      <td>2.022429</td>\n",
              "      <td>-1.404366</td>\n",
              "      <td>-1.572468</td>\n",
              "      <td>-1.159925</td>\n",
              "      <td>0.775524</td>\n",
              "      <td>-1.077868</td>\n",
              "      <td>-1.045596</td>\n",
              "      <td>-0.725765</td>\n",
              "      <td>-1.066252</td>\n",
              "      <td>-1.068532</td>\n",
              "      <td>1.954421</td>\n",
              "      <td>-0.034543</td>\n",
              "      <td>-0.906756</td>\n",
              "      <td>0.403357</td>\n",
              "      <td>-0.095494</td>\n",
              "      <td>-0.232351</td>\n",
              "      <td>-0.608769</td>\n",
              "      <td>-0.614649</td>\n",
              "      <td>-0.541452</td>\n",
              "      <td>-1.245808</td>\n",
              "    </tr>\n",
              "  </tbody>\n",
              "</table>\n",
              "</div>\n",
              "    <div class=\"colab-df-buttons\">\n",
              "\n",
              "  <div class=\"colab-df-container\">\n",
              "    <button class=\"colab-df-convert\" onclick=\"convertToInteractive('df-5063f37d-68dd-4f8b-b446-ea18fc0dd929')\"\n",
              "            title=\"Convert this dataframe to an interactive table.\"\n",
              "            style=\"display:none;\">\n",
              "\n",
              "  <svg xmlns=\"http://www.w3.org/2000/svg\" height=\"24px\" viewBox=\"0 -960 960 960\">\n",
              "    <path d=\"M120-120v-720h720v720H120Zm60-500h600v-160H180v160Zm220 220h160v-160H400v160Zm0 220h160v-160H400v160ZM180-400h160v-160H180v160Zm440 0h160v-160H620v160ZM180-180h160v-160H180v160Zm440 0h160v-160H620v160Z\"/>\n",
              "  </svg>\n",
              "    </button>\n",
              "\n",
              "  <style>\n",
              "    .colab-df-container {\n",
              "      display:flex;\n",
              "      gap: 12px;\n",
              "    }\n",
              "\n",
              "    .colab-df-convert {\n",
              "      background-color: #E8F0FE;\n",
              "      border: none;\n",
              "      border-radius: 50%;\n",
              "      cursor: pointer;\n",
              "      display: none;\n",
              "      fill: #1967D2;\n",
              "      height: 32px;\n",
              "      padding: 0 0 0 0;\n",
              "      width: 32px;\n",
              "    }\n",
              "\n",
              "    .colab-df-convert:hover {\n",
              "      background-color: #E2EBFA;\n",
              "      box-shadow: 0px 1px 2px rgba(60, 64, 67, 0.3), 0px 1px 3px 1px rgba(60, 64, 67, 0.15);\n",
              "      fill: #174EA6;\n",
              "    }\n",
              "\n",
              "    .colab-df-buttons div {\n",
              "      margin-bottom: 4px;\n",
              "    }\n",
              "\n",
              "    [theme=dark] .colab-df-convert {\n",
              "      background-color: #3B4455;\n",
              "      fill: #D2E3FC;\n",
              "    }\n",
              "\n",
              "    [theme=dark] .colab-df-convert:hover {\n",
              "      background-color: #434B5C;\n",
              "      box-shadow: 0px 1px 3px 1px rgba(0, 0, 0, 0.15);\n",
              "      filter: drop-shadow(0px 1px 2px rgba(0, 0, 0, 0.3));\n",
              "      fill: #FFFFFF;\n",
              "    }\n",
              "  </style>\n",
              "\n",
              "    <script>\n",
              "      const buttonEl =\n",
              "        document.querySelector('#df-5063f37d-68dd-4f8b-b446-ea18fc0dd929 button.colab-df-convert');\n",
              "      buttonEl.style.display =\n",
              "        google.colab.kernel.accessAllowed ? 'block' : 'none';\n",
              "\n",
              "      async function convertToInteractive(key) {\n",
              "        const element = document.querySelector('#df-5063f37d-68dd-4f8b-b446-ea18fc0dd929');\n",
              "        const dataTable =\n",
              "          await google.colab.kernel.invokeFunction('convertToInteractive',\n",
              "                                                    [key], {});\n",
              "        if (!dataTable) return;\n",
              "\n",
              "        const docLinkHtml = 'Like what you see? Visit the ' +\n",
              "          '<a target=\"_blank\" href=https://colab.research.google.com/notebooks/data_table.ipynb>data table notebook</a>'\n",
              "          + ' to learn more about interactive tables.';\n",
              "        element.innerHTML = '';\n",
              "        dataTable['output_type'] = 'display_data';\n",
              "        await google.colab.output.renderOutput(dataTable, element);\n",
              "        const docLink = document.createElement('div');\n",
              "        docLink.innerHTML = docLinkHtml;\n",
              "        element.appendChild(docLink);\n",
              "      }\n",
              "    </script>\n",
              "  </div>\n",
              "\n",
              "\n",
              "    <div id=\"df-b1e25400-d22d-4fcb-a35c-3af2113f7ec0\">\n",
              "      <button class=\"colab-df-quickchart\" onclick=\"quickchart('df-b1e25400-d22d-4fcb-a35c-3af2113f7ec0')\"\n",
              "                title=\"Suggest charts\"\n",
              "                style=\"display:none;\">\n",
              "\n",
              "<svg xmlns=\"http://www.w3.org/2000/svg\" height=\"24px\"viewBox=\"0 0 24 24\"\n",
              "     width=\"24px\">\n",
              "    <g>\n",
              "        <path d=\"M19 3H5c-1.1 0-2 .9-2 2v14c0 1.1.9 2 2 2h14c1.1 0 2-.9 2-2V5c0-1.1-.9-2-2-2zM9 17H7v-7h2v7zm4 0h-2V7h2v10zm4 0h-2v-4h2v4z\"/>\n",
              "    </g>\n",
              "</svg>\n",
              "      </button>\n",
              "\n",
              "<style>\n",
              "  .colab-df-quickchart {\n",
              "      --bg-color: #E8F0FE;\n",
              "      --fill-color: #1967D2;\n",
              "      --hover-bg-color: #E2EBFA;\n",
              "      --hover-fill-color: #174EA6;\n",
              "      --disabled-fill-color: #AAA;\n",
              "      --disabled-bg-color: #DDD;\n",
              "  }\n",
              "\n",
              "  [theme=dark] .colab-df-quickchart {\n",
              "      --bg-color: #3B4455;\n",
              "      --fill-color: #D2E3FC;\n",
              "      --hover-bg-color: #434B5C;\n",
              "      --hover-fill-color: #FFFFFF;\n",
              "      --disabled-bg-color: #3B4455;\n",
              "      --disabled-fill-color: #666;\n",
              "  }\n",
              "\n",
              "  .colab-df-quickchart {\n",
              "    background-color: var(--bg-color);\n",
              "    border: none;\n",
              "    border-radius: 50%;\n",
              "    cursor: pointer;\n",
              "    display: none;\n",
              "    fill: var(--fill-color);\n",
              "    height: 32px;\n",
              "    padding: 0;\n",
              "    width: 32px;\n",
              "  }\n",
              "\n",
              "  .colab-df-quickchart:hover {\n",
              "    background-color: var(--hover-bg-color);\n",
              "    box-shadow: 0 1px 2px rgba(60, 64, 67, 0.3), 0 1px 3px 1px rgba(60, 64, 67, 0.15);\n",
              "    fill: var(--button-hover-fill-color);\n",
              "  }\n",
              "\n",
              "  .colab-df-quickchart-complete:disabled,\n",
              "  .colab-df-quickchart-complete:disabled:hover {\n",
              "    background-color: var(--disabled-bg-color);\n",
              "    fill: var(--disabled-fill-color);\n",
              "    box-shadow: none;\n",
              "  }\n",
              "\n",
              "  .colab-df-spinner {\n",
              "    border: 2px solid var(--fill-color);\n",
              "    border-color: transparent;\n",
              "    border-bottom-color: var(--fill-color);\n",
              "    animation:\n",
              "      spin 1s steps(1) infinite;\n",
              "  }\n",
              "\n",
              "  @keyframes spin {\n",
              "    0% {\n",
              "      border-color: transparent;\n",
              "      border-bottom-color: var(--fill-color);\n",
              "      border-left-color: var(--fill-color);\n",
              "    }\n",
              "    20% {\n",
              "      border-color: transparent;\n",
              "      border-left-color: var(--fill-color);\n",
              "      border-top-color: var(--fill-color);\n",
              "    }\n",
              "    30% {\n",
              "      border-color: transparent;\n",
              "      border-left-color: var(--fill-color);\n",
              "      border-top-color: var(--fill-color);\n",
              "      border-right-color: var(--fill-color);\n",
              "    }\n",
              "    40% {\n",
              "      border-color: transparent;\n",
              "      border-right-color: var(--fill-color);\n",
              "      border-top-color: var(--fill-color);\n",
              "    }\n",
              "    60% {\n",
              "      border-color: transparent;\n",
              "      border-right-color: var(--fill-color);\n",
              "    }\n",
              "    80% {\n",
              "      border-color: transparent;\n",
              "      border-right-color: var(--fill-color);\n",
              "      border-bottom-color: var(--fill-color);\n",
              "    }\n",
              "    90% {\n",
              "      border-color: transparent;\n",
              "      border-bottom-color: var(--fill-color);\n",
              "    }\n",
              "  }\n",
              "</style>\n",
              "\n",
              "      <script>\n",
              "        async function quickchart(key) {\n",
              "          const quickchartButtonEl =\n",
              "            document.querySelector('#' + key + ' button');\n",
              "          quickchartButtonEl.disabled = true;  // To prevent multiple clicks.\n",
              "          quickchartButtonEl.classList.add('colab-df-spinner');\n",
              "          try {\n",
              "            const charts = await google.colab.kernel.invokeFunction(\n",
              "                'suggestCharts', [key], {});\n",
              "          } catch (error) {\n",
              "            console.error('Error during call to suggestCharts:', error);\n",
              "          }\n",
              "          quickchartButtonEl.classList.remove('colab-df-spinner');\n",
              "          quickchartButtonEl.classList.add('colab-df-quickchart-complete');\n",
              "        }\n",
              "        (() => {\n",
              "          let quickchartButtonEl =\n",
              "            document.querySelector('#df-b1e25400-d22d-4fcb-a35c-3af2113f7ec0 button');\n",
              "          quickchartButtonEl.style.display =\n",
              "            google.colab.kernel.accessAllowed ? 'block' : 'none';\n",
              "        })();\n",
              "      </script>\n",
              "    </div>\n",
              "\n",
              "    </div>\n",
              "  </div>\n"
            ],
            "application/vnd.google.colaboratory.intrinsic+json": {
              "type": "dataframe",
              "variable_name": "scaled_df",
              "summary": "{\n  \"name\": \"scaled_df\",\n  \"rows\": 52695,\n  \"fields\": [\n    {\n      \"column\": \"date\",\n      \"properties\": {\n        \"dtype\": \"object\",\n        \"num_unique_values\": 52695,\n        \"samples\": [\n          \"2020-08-25 04:20:00\",\n          \"2020-10-19 17:50:00\",\n          \"2020-06-30 04:20:00\"\n        ],\n        \"semantic_type\": \"\",\n        \"description\": \"\"\n      }\n    },\n    {\n      \"column\": \"p\",\n      \"properties\": {\n        \"dtype\": \"number\",\n        \"std\": 1.0000094887013269,\n        \"min\": -3.7372275538342112,\n        \"max\": 3.2671137721030976,\n        \"num_unique_values\": 5052,\n        \"samples\": [\n          2.3841040809902077,\n          1.1448493976448013,\n          1.7595892318021238\n        ],\n        \"semantic_type\": \"\",\n        \"description\": \"\"\n      }\n    },\n    {\n      \"column\": \"T\",\n      \"properties\": {\n        \"dtype\": \"number\",\n        \"std\": 1.0000094887013202,\n        \"min\": -2.3108431725347143,\n        \"max\": 3.211033369677443,\n        \"num_unique_values\": 3680,\n        \"samples\": [\n          -1.1646922704654592,\n          1.7689720127515238,\n          0.7768016641144702\n        ],\n        \"semantic_type\": \"\",\n        \"description\": \"\"\n      }\n    },\n    {\n      \"column\": \"Tpot\",\n      \"properties\": {\n        \"dtype\": \"number\",\n        \"std\": 1.0000094887013278,\n        \"min\": -2.442912869182823,\n        \"max\": 3.1946261463909287,\n        \"num_unique_values\": 3836,\n        \"samples\": [\n          -0.49590067540176447,\n          -1.5028854040801634,\n          -0.26877113425265653\n        ],\n        \"semantic_type\": \"\",\n        \"description\": \"\"\n      }\n    },\n    {\n      \"column\": \"Tdew\",\n      \"properties\": {\n        \"dtype\": \"number\",\n        \"std\": 1.0000094887013287,\n        \"min\": -3.2265288537452594,\n        \"max\": 2.533436869761655,\n        \"num_unique_values\": 3036,\n        \"samples\": [\n          -2.6523789623318623,\n          1.5765203840726605,\n          -1.0692697588148061\n        ],\n        \"semantic_type\": \"\",\n        \"description\": \"\"\n      }\n    },\n    {\n      \"column\": \"rh\",\n      \"properties\": {\n        \"dtype\": \"number\",\n        \"std\": 1.00000948870122,\n        \"min\": -2.6690967910409067,\n        \"max\": 1.4307510308589275,\n        \"num_unique_values\": 5494,\n        \"samples\": [\n          -1.4012848948217542,\n          -0.25047778804038273,\n          -1.4361263210098936\n        ],\n        \"semantic_type\": \"\",\n        \"description\": \"\"\n      }\n    },\n    {\n      \"column\": \"VPmax\",\n      \"properties\": {\n        \"dtype\": \"number\",\n        \"std\": 1.0000094887013102,\n        \"min\": -1.4040896381739525,\n        \"max\": 5.395460059908803,\n        \"num_unique_values\": 2958,\n        \"samples\": [\n          1.965552331665902,\n          1.051084954158819,\n          -0.47259063329209516\n        ],\n        \"semantic_type\": \"\",\n        \"description\": \"\"\n      }\n    },\n    {\n      \"column\": \"VPact\",\n      \"properties\": {\n        \"dtype\": \"number\",\n        \"std\": 1.00000948870135,\n        \"min\": -1.8856696489697937,\n        \"max\": 3.5996617804706768,\n        \"num_unique_values\": 2059,\n        \"samples\": [\n          1.156489693864432,\n          -1.3612451217328478,\n          1.2459649686536738\n        ],\n        \"semantic_type\": \"\",\n        \"description\": \"\"\n      }\n    },\n    {\n      \"column\": \"VPdef\",\n      \"properties\": {\n        \"dtype\": \"number\",\n        \"std\": 1.0000094887012545,\n        \"min\": -0.8683828220101044,\n        \"max\": 6.7318784474098035,\n        \"num_unique_values\": 2793,\n        \"samples\": [\n          4.87243210358498,\n          1.5470921372497142,\n          3.332521684864034\n        ],\n        \"semantic_type\": \"\",\n        \"description\": \"\"\n      }\n    },\n    {\n      \"column\": \"sh\",\n      \"properties\": {\n        \"dtype\": \"number\",\n        \"std\": 1.0000094887013358,\n        \"min\": -1.8782744316511988,\n        \"max\": 3.626298865878525,\n        \"num_unique_values\": 1337,\n        \"samples\": [\n          1.1394810002569402,\n          2.6151751183181005,\n          3.2866549815628607\n        ],\n        \"semantic_type\": \"\",\n        \"description\": \"\"\n      }\n    },\n    {\n      \"column\": \"H2OC\",\n      \"properties\": {\n        \"dtype\": \"number\",\n        \"std\": 1.0000094887013287,\n        \"min\": -1.8841809199256552,\n        \"max\": 3.612266962543588,\n        \"num_unique_values\": 2087,\n        \"samples\": [\n          1.4225056403833811,\n          1.9638224772932311,\n          -0.3802508843480637\n        ],\n        \"semantic_type\": \"\",\n        \"description\": \"\"\n      }\n    },\n    {\n      \"column\": \"rho\",\n      \"properties\": {\n        \"dtype\": \"number\",\n        \"std\": 1.000009488701323,\n        \"min\": -2.8411649424890366,\n        \"max\": 2.954713740167215,\n        \"num_unique_values\": 14826,\n        \"samples\": [\n          1.8056397529739296,\n          -1.495546049698426,\n          0.5728420280611093\n        ],\n        \"semantic_type\": \"\",\n        \"description\": \"\"\n      }\n    },\n    {\n      \"column\": \"wv\",\n      \"properties\": {\n        \"dtype\": \"number\",\n        \"std\": 1.0000094887013622,\n        \"min\": -229.39678878944733,\n        \"max\": 0.2700659570807015,\n        \"num_unique_values\": 977,\n        \"samples\": [\n          0.003762807841560875,\n          0.1216610151705172,\n          0.03793952553030502\n        ],\n        \"semantic_type\": \"\",\n        \"description\": \"\"\n      }\n    },\n    {\n      \"column\": \"max. wv\",\n      \"properties\": {\n        \"dtype\": \"number\",\n        \"std\": 1.0000094887013589,\n        \"min\": -1.4752953476234651,\n        \"max\": 7.824378480611655,\n        \"num_unique_values\": 1367,\n        \"samples\": [\n          -0.6062428588713621,\n          -0.6427917953142076,\n          1.3633387161041985\n        ],\n        \"semantic_type\": \"\",\n        \"description\": \"\"\n      }\n    },\n    {\n      \"column\": \"wd\",\n      \"properties\": {\n        \"dtype\": \"number\",\n        \"std\": 1.000009488701324,\n        \"min\": -2.178093118370581,\n        \"max\": 2.2556956499107508,\n        \"num_unique_values\": 8099,\n        \"samples\": [\n          -1.945319208035811,\n          1.2568615690562617,\n          -1.8349671320252534\n        ],\n        \"semantic_type\": \"\",\n        \"description\": \"\"\n      }\n    },\n    {\n      \"column\": \"rain\",\n      \"properties\": {\n        \"dtype\": \"number\",\n        \"std\": 1.0000094887009718,\n        \"min\": -0.09549428782029198,\n        \"max\": 90.74783382780062,\n        \"num_unique_values\": 42,\n        \"samples\": [\n          27.48194460442177,\n          13.69322515830074,\n          3.96001143162707\n        ],\n        \"semantic_type\": \"\",\n        \"description\": \"\"\n      }\n    },\n    {\n      \"column\": \"raining\",\n      \"properties\": {\n        \"dtype\": \"number\",\n        \"std\": 1.0000094887008213,\n        \"min\": -0.23235138561003946,\n        \"max\": 5.1486522319992964,\n        \"num_unique_values\": 61,\n        \"samples\": [\n          -0.23235138561003946,\n          3.0859341785823844,\n          3.3549843594628515\n        ],\n        \"semantic_type\": \"\",\n        \"description\": \"\"\n      }\n    },\n    {\n      \"column\": \"SWDR\",\n      \"properties\": {\n        \"dtype\": \"number\",\n        \"std\": 1.0000094887016524,\n        \"min\": -0.6087685809902204,\n        \"max\": 4.560953023867528,\n        \"num_unique_values\": 16767,\n        \"samples\": [\n          2.832397326544408,\n          0.4848415278012946,\n          3.068195852523403\n        ],\n        \"semantic_type\": \"\",\n        \"description\": \"\"\n      }\n    },\n    {\n      \"column\": \"PAR\",\n      \"properties\": {\n        \"dtype\": \"number\",\n        \"std\": 1.0000094887010118,\n        \"min\": -0.6146485381399596,\n        \"max\": 4.427519811575956,\n        \"num_unique_values\": 19508,\n        \"samples\": [\n          1.4466525910180708,\n          1.260222735253534,\n          0.9159117215052015\n        ],\n        \"semantic_type\": \"\",\n        \"description\": \"\"\n      }\n    },\n    {\n      \"column\": \"max. PAR\",\n      \"properties\": {\n        \"dtype\": \"number\",\n        \"std\": 1.0000094887009257,\n        \"min\": -18.0848939370999,\n        \"max\": 3.8429875738806887,\n        \"num_unique_values\": 19004,\n        \"samples\": [\n          1.2777570062223877,\n          1.6882268820174315,\n          1.2818274918468568\n        ],\n        \"semantic_type\": \"\",\n        \"description\": \"\"\n      }\n    },\n    {\n      \"column\": \"Tlog\",\n      \"properties\": {\n        \"dtype\": \"number\",\n        \"std\": 1.0000094887013347,\n        \"min\": -1.8760656114933396,\n        \"max\": 3.5395300932390437,\n        \"num_unique_values\": 3716,\n        \"samples\": [\n          2.1981464688149286,\n          -0.6707457805514797,\n          -0.7939733671014461\n        ],\n        \"semantic_type\": \"\",\n        \"description\": \"\"\n      }\n    }\n  ]\n}"
            }
          },
          "metadata": {},
          "execution_count": 14
        }
      ],
      "source": [
        "from sklearn.preprocessing import StandardScaler\n",
        "\n",
        "scaler = StandardScaler()\n",
        "\n",
        "scaled_df = pd.DataFrame(scaler.fit_transform(df), columns=df.columns, index=df.index)\n",
        "\n",
        "scaled_df.head()"
      ]
    },
    {
      "cell_type": "code",
      "source": [
        "import os"
      ],
      "metadata": {
        "id": "nbEDYwCr05VB"
      },
      "execution_count": 15,
      "outputs": []
    },
    {
      "cell_type": "code",
      "execution_count": 17,
      "metadata": {
        "colab": {
          "base_uri": "https://localhost:8080/"
        },
        "id": "7mXFvREi2Yyk",
        "outputId": "6be23963-60f2-44ba-b4c9-859e7329e1c3"
      },
      "outputs": [
        {
          "output_type": "stream",
          "name": "stdout",
          "text": [
            "X shape: (52551, 144, 20)\n",
            "y shape: (52551,)\n"
          ]
        }
      ],
      "source": [
        "import numpy as np\n",
        "# 24 hours window\n",
        "def create_sequences(data, target_column, window_size=24):\n",
        "    X, y = [], []\n",
        "    for i in range(len(data) - window_size):\n",
        "        X.append(data[i:i+window_size])\n",
        "        y.append(data[i+window_size, target_column])\n",
        "    return np.array(X), np.array(y)\n",
        "\n",
        "data_array = scaled_df.values\n",
        "\n",
        "\n",
        "target_col = scaled_df.columns.get_loc('T')\n",
        "\n",
        "X, y = create_sequences(data_array, target_col, window_size=144)\n",
        "\n",
        "print(\"X shape:\", X.shape)\n",
        "print(\"y shape:\", y.shape)"
      ]
    },
    {
      "cell_type": "code",
      "execution_count": 18,
      "metadata": {
        "colab": {
          "base_uri": "https://localhost:8080/"
        },
        "id": "IeF0FlLH2acP",
        "outputId": "22253a00-5716-4176-ea2a-6dead2d568f6"
      },
      "outputs": [
        {
          "output_type": "stream",
          "name": "stdout",
          "text": [
            "Train shape: (42040, 144, 20) (42040,)\n",
            "Validation shape: (5255, 144, 20) (5255,)\n",
            "Test shape: (5256, 144, 20) (5256,)\n"
          ]
        }
      ],
      "source": [
        "train_size = int(len(X) * 0.8)\n",
        "val_size = int(len(X) * 0.1)\n",
        "test_size = len(X) - train_size - val_size\n",
        "\n",
        "X_train, X_val, X_test = X[:train_size], X[train_size:train_size+val_size], X[train_size+val_size:]\n",
        "y_train, y_val, y_test = y[:train_size], y[train_size:train_size+val_size], y[train_size+val_size:]\n",
        "\n",
        "print(\"Train shape:\", X_train.shape, y_train.shape)\n",
        "print(\"Validation shape:\", X_val.shape, y_val.shape)\n",
        "print(\"Test shape:\", X_test.shape, y_test.shape)"
      ]
    },
    {
      "cell_type": "code",
      "source": [
        "import tensorflow as tf\n",
        "from tensorflow.keras.models import Sequential\n",
        "from tensorflow.keras.layers import LSTM, Dense, Dropout, BatchNormalization, LayerNormalization\n",
        "from tensorflow.keras.optimizers import Adam\n",
        "from tensorflow.keras.callbacks import EarlyStopping\n",
        "\n",
        "def create_lstm_model(input_shape):\n",
        "    model = Sequential()\n",
        "\n",
        "    model.add(LSTM(units=128, activation='tanh', return_sequences=True, input_shape=input_shape))\n",
        "    model.add(Dropout(0.3))\n",
        "\n",
        "    model.add(LSTM(units=64, activation='tanh', return_sequences=True))\n",
        "    model.add(Dropout(0.3))\n",
        "\n",
        "    model.add(LSTM(units=32, activation='tanh', return_sequences=True))\n",
        "    model.add(Dropout(0.3))\n",
        "\n",
        "    model.add(LSTM(units=16, activation='tanh', return_sequences=False))\n",
        "    model.add(Dropout(0.2))\n",
        "    model.add(LayerNormalization())\n",
        "\n",
        "    model.add(Dense(units=1))\n",
        "\n",
        "    model.compile(optimizer=Adam(learning_rate=0.001), loss='mean_squared_error', metrics=['mae'])\n",
        "\n",
        "    return model\n",
        "\n",
        "model = create_lstm_model(X_train.shape[1:])\n",
        "\n",
        "\n",
        "early_stopping = EarlyStopping(monitor='val_loss', patience=5, restore_best_weights=True)\n",
        "\n",
        "history = model.fit(X_train, y_train, epochs=50, batch_size=32, validation_data=(X_val, y_val), verbose=1, callbacks=[early_stopping])\n",
        "\n",
        "loss, mae = model.evaluate(X_test, y_test, verbose=0)\n",
        "print(f\"Test Loss: {loss}, Test MAE: {mae}\")\n",
        "\n",
        "model.save(\"/content/drive/MyDrive/weather_lstm_model.h5\")"
      ],
      "metadata": {
        "colab": {
          "base_uri": "https://localhost:8080/"
        },
        "id": "7xO3Xf8pOxs5",
        "outputId": "b42097e3-83a8-4bad-d0cd-5aef332695b6"
      },
      "execution_count": 19,
      "outputs": [
        {
          "metadata": {
            "tags": null
          },
          "name": "stderr",
          "output_type": "stream",
          "text": [
            "/usr/local/lib/python3.11/dist-packages/keras/src/layers/rnn/rnn.py:200: UserWarning: Do not pass an `input_shape`/`input_dim` argument to a layer. When using Sequential models, prefer using an `Input(shape)` object as the first layer in the model instead.\n",
            "  super().__init__(**kwargs)\n"
          ]
        },
        {
          "output_type": "stream",
          "name": "stdout",
          "text": [
            "Epoch 1/50\n",
            "\u001b[1m1314/1314\u001b[0m \u001b[32m━━━━━━━━━━━━━━━━━━━━\u001b[0m\u001b[37m\u001b[0m \u001b[1m538s\u001b[0m 403ms/step - loss: 0.1522 - mae: 0.2653 - val_loss: 0.0123 - val_mae: 0.0815\n",
            "Epoch 2/50\n",
            "\u001b[1m1314/1314\u001b[0m \u001b[32m━━━━━━━━━━━━━━━━━━━━\u001b[0m\u001b[37m\u001b[0m \u001b[1m540s\u001b[0m 386ms/step - loss: 0.0244 - mae: 0.1178 - val_loss: 0.0199 - val_mae: 0.1038\n",
            "Epoch 3/50\n",
            "\u001b[1m1314/1314\u001b[0m \u001b[32m━━━━━━━━━━━━━━━━━━━━\u001b[0m\u001b[37m\u001b[0m \u001b[1m571s\u001b[0m 394ms/step - loss: 0.0190 - mae: 0.1039 - val_loss: 0.0104 - val_mae: 0.0772\n",
            "Epoch 4/50\n",
            "\u001b[1m1314/1314\u001b[0m \u001b[32m━━━━━━━━━━━━━━━━━━━━\u001b[0m\u001b[37m\u001b[0m \u001b[1m525s\u001b[0m 399ms/step - loss: 0.0158 - mae: 0.0943 - val_loss: 0.0095 - val_mae: 0.0783\n",
            "Epoch 5/50\n",
            "\u001b[1m1314/1314\u001b[0m \u001b[32m━━━━━━━━━━━━━━━━━━━━\u001b[0m\u001b[37m\u001b[0m \u001b[1m560s\u001b[0m 398ms/step - loss: 0.0149 - mae: 0.0914 - val_loss: 0.0194 - val_mae: 0.1221\n",
            "Epoch 6/50\n",
            "\u001b[1m1314/1314\u001b[0m \u001b[32m━━━━━━━━━━━━━━━━━━━━\u001b[0m\u001b[37m\u001b[0m \u001b[1m554s\u001b[0m 392ms/step - loss: 0.0126 - mae: 0.0838 - val_loss: 0.0068 - val_mae: 0.0694\n",
            "Epoch 7/50\n",
            "\u001b[1m1314/1314\u001b[0m \u001b[32m━━━━━━━━━━━━━━━━━━━━\u001b[0m\u001b[37m\u001b[0m \u001b[1m520s\u001b[0m 396ms/step - loss: 0.0118 - mae: 0.0810 - val_loss: 0.0057 - val_mae: 0.0622\n",
            "Epoch 8/50\n",
            "\u001b[1m1314/1314\u001b[0m \u001b[32m━━━━━━━━━━━━━━━━━━━━\u001b[0m\u001b[37m\u001b[0m \u001b[1m529s\u001b[0m 403ms/step - loss: 0.0117 - mae: 0.0800 - val_loss: 0.0127 - val_mae: 0.0827\n",
            "Epoch 9/50\n",
            "\u001b[1m1314/1314\u001b[0m \u001b[32m━━━━━━━━━━━━━━━━━━━━\u001b[0m\u001b[37m\u001b[0m \u001b[1m526s\u001b[0m 400ms/step - loss: 0.0108 - mae: 0.0766 - val_loss: 0.0105 - val_mae: 0.0752\n",
            "Epoch 10/50\n",
            "\u001b[1m1314/1314\u001b[0m \u001b[32m━━━━━━━━━━━━━━━━━━━━\u001b[0m\u001b[37m\u001b[0m \u001b[1m552s\u001b[0m 393ms/step - loss: 0.0109 - mae: 0.0770 - val_loss: 0.0165 - val_mae: 0.1011\n",
            "Epoch 11/50\n",
            "\u001b[1m1314/1314\u001b[0m \u001b[32m━━━━━━━━━━━━━━━━━━━━\u001b[0m\u001b[37m\u001b[0m \u001b[1m563s\u001b[0m 394ms/step - loss: 0.0101 - mae: 0.0743 - val_loss: 0.0097 - val_mae: 0.0814\n",
            "Epoch 12/50\n",
            "\u001b[1m1314/1314\u001b[0m \u001b[32m━━━━━━━━━━━━━━━━━━━━\u001b[0m\u001b[37m\u001b[0m \u001b[1m563s\u001b[0m 394ms/step - loss: 0.0103 - mae: 0.0741 - val_loss: 0.0114 - val_mae: 0.0871\n"
          ]
        },
        {
          "output_type": "stream",
          "name": "stderr",
          "text": [
            "WARNING:absl:You are saving your model as an HDF5 file via `model.save()` or `keras.saving.save_model(model)`. This file format is considered legacy. We recommend using instead the native Keras format, e.g. `model.save('my_model.keras')` or `keras.saving.save_model(model, 'my_model.keras')`. \n"
          ]
        },
        {
          "output_type": "stream",
          "name": "stdout",
          "text": [
            "Test Loss: 0.009656138718128204, Test MAE: 0.09258537739515305\n"
          ]
        }
      ]
    },
    {
      "cell_type": "code",
      "source": [
        "from sklearn.metrics import r2_score\n",
        "y_pred = model.predict(X_test)\n",
        "print(\"R²:\", r2_score(y_test, y_pred))"
      ],
      "metadata": {
        "colab": {
          "base_uri": "https://localhost:8080/"
        },
        "id": "GtO1J5VJvMqR",
        "outputId": "a9d9bcca-164e-48c8-8d16-0566faa9ffe4"
      },
      "execution_count": 20,
      "outputs": [
        {
          "output_type": "stream",
          "name": "stdout",
          "text": [
            "\u001b[1m165/165\u001b[0m \u001b[32m━━━━━━━━━━━━━━━━━━━━\u001b[0m\u001b[37m\u001b[0m \u001b[1m21s\u001b[0m 122ms/step\n",
            "R²: 0.9387158715987373\n"
          ]
        }
      ]
    },
    {
      "cell_type": "code",
      "source": [
        "import matplotlib.pyplot as plt\n",
        "\n",
        "plt.plot(history.history['loss'], label='Train Loss')\n",
        "plt.plot(history.history['val_loss'], label='Val Loss')\n",
        "plt.legend()\n",
        "plt.title(\"Loss per Epoch\")\n",
        "plt.xlabel(\"Epoch\")\n",
        "plt.ylabel(\"Loss\")\n",
        "plt.show()"
      ],
      "metadata": {
        "colab": {
          "base_uri": "https://localhost:8080/",
          "height": 472
        },
        "id": "PI4W8QEj0MNk",
        "outputId": "be1c03eb-db70-44fa-d781-80d3ad344779"
      },
      "execution_count": 21,
      "outputs": [
        {
          "output_type": "display_data",
          "data": {
            "text/plain": [
              "<Figure size 640x480 with 1 Axes>"
            ],
            "image/png": "[encoded data removed]"
          },
          "metadata": {}
        }
      ]
    },
    {
      "cell_type": "code",
      "source": [
        "model.summary()"
      ],
      "metadata": {
        "colab": {
          "base_uri": "https://localhost:8080/",
          "height": 481
        },
        "id": "ZlGggPgZzilp",
        "outputId": "478c6358-5318-47e9-8ca1-e6e20aa61276"
      },
      "execution_count": 22,
      "outputs": [
        {
          "output_type": "display_data",
          "data": {
            "text/plain": [
              "\u001b[1mModel: \"sequential\"\u001b[0m\n"
            ],
            "text/html": [
              "<pre style=\"white-space:pre;overflow-x:auto;line-height:normal;font-family:Menlo,'DejaVu Sans Mono',consolas,'Courier New',monospace\"><span style=\"font-weight: bold\">Model: \"sequential\"</span>\n",
              "</pre>\n"
            ]
          },
          "metadata": {}
        },
        {
          "output_type": "display_data",
          "data": {
            "text/plain": [
              "┏━━━━━━━━━━━━━━━━━━━━━━━━━━━━━━━━━┳━━━━━━━━━━━━━━━━━━━━━━━━┳━━━━━━━━━━━━━━━┓\n",
              "┃\u001b[1m \u001b[0m\u001b[1mLayer (type)                   \u001b[0m\u001b[1m \u001b[0m┃\u001b[1m \u001b[0m\u001b[1mOutput Shape          \u001b[0m\u001b[1m \u001b[0m┃\u001b[1m \u001b[0m\u001b[1m      Param #\u001b[0m\u001b[1m \u001b[0m┃\n",
              "┡━━━━━━━━━━━━━━━━━━━━━━━━━━━━━━━━━╇━━━━━━━━━━━━━━━━━━━━━━━━╇━━━━━━━━━━━━━━━┩\n",
              "│ lstm (\u001b[38;5;33mLSTM\u001b[0m)                     │ (\u001b[38;5;45mNone\u001b[0m, \u001b[38;5;34m144\u001b[0m, \u001b[38;5;34m128\u001b[0m)       │        \u001b[38;5;34m76,288\u001b[0m │\n",
              "├─────────────────────────────────┼────────────────────────┼───────────────┤\n",
              "│ dropout (\u001b[38;5;33mDropout\u001b[0m)               │ (\u001b[38;5;45mNone\u001b[0m, \u001b[38;5;34m144\u001b[0m, \u001b[38;5;34m128\u001b[0m)       │             \u001b[38;5;34m0\u001b[0m │\n",
              "├─────────────────────────────────┼────────────────────────┼───────────────┤\n",
              "│ lstm_1 (\u001b[38;5;33mLSTM\u001b[0m)                   │ (\u001b[38;5;45mNone\u001b[0m, \u001b[38;5;34m144\u001b[0m, \u001b[38;5;34m64\u001b[0m)        │        \u001b[38;5;34m49,408\u001b[0m │\n",
              "├─────────────────────────────────┼────────────────────────┼───────────────┤\n",
              "│ dropout_1 (\u001b[38;5;33mDropout\u001b[0m)             │ (\u001b[38;5;45mNone\u001b[0m, \u001b[38;5;34m144\u001b[0m, \u001b[38;5;34m64\u001b[0m)        │             \u001b[38;5;34m0\u001b[0m │\n",
              "├─────────────────────────────────┼────────────────────────┼───────────────┤\n",
              "│ lstm_2 (\u001b[38;5;33mLSTM\u001b[0m)                   │ (\u001b[38;5;45mNone\u001b[0m, \u001b[38;5;34m144\u001b[0m, \u001b[38;5;34m32\u001b[0m)        │        \u001b[38;5;34m12,416\u001b[0m │\n",
              "├─────────────────────────────────┼────────────────────────┼───────────────┤\n",
              "│ dropout_2 (\u001b[38;5;33mDropout\u001b[0m)             │ (\u001b[38;5;45mNone\u001b[0m, \u001b[38;5;34m144\u001b[0m, \u001b[38;5;34m32\u001b[0m)        │             \u001b[38;5;34m0\u001b[0m │\n",
              "├─────────────────────────────────┼────────────────────────┼───────────────┤\n",
              "│ lstm_3 (\u001b[38;5;33mLSTM\u001b[0m)                   │ (\u001b[38;5;45mNone\u001b[0m, \u001b[38;5;34m16\u001b[0m)             │         \u001b[38;5;34m3,136\u001b[0m │\n",
              "├─────────────────────────────────┼────────────────────────┼───────────────┤\n",
              "│ dropout_3 (\u001b[38;5;33mDropout\u001b[0m)             │ (\u001b[38;5;45mNone\u001b[0m, \u001b[38;5;34m16\u001b[0m)             │             \u001b[38;5;34m0\u001b[0m │\n",
              "├─────────────────────────────────┼────────────────────────┼───────────────┤\n",
              "│ layer_normalization             │ (\u001b[38;5;45mNone\u001b[0m, \u001b[38;5;34m16\u001b[0m)             │            \u001b[38;5;34m32\u001b[0m │\n",
              "│ (\u001b[38;5;33mLayerNormalization\u001b[0m)            │                        │               │\n",
              "├─────────────────────────────────┼────────────────────────┼───────────────┤\n",
              "│ dense (\u001b[38;5;33mDense\u001b[0m)                   │ (\u001b[38;5;45mNone\u001b[0m, \u001b[38;5;34m1\u001b[0m)              │            \u001b[38;5;34m17\u001b[0m │\n",
              "└─────────────────────────────────┴────────────────────────┴───────────────┘\n"
            ],
            "text/html": [
              "<pre style=\"white-space:pre;overflow-x:auto;line-height:normal;font-family:Menlo,'DejaVu Sans Mono',consolas,'Courier New',monospace\">┏━━━━━━━━━━━━━━━━━━━━━━━━━━━━━━━━━┳━━━━━━━━━━━━━━━━━━━━━━━━┳━━━━━━━━━━━━━━━┓\n",
              "┃<span style=\"font-weight: bold\"> Layer (type)                    </span>┃<span style=\"font-weight: bold\"> Output Shape           </span>┃<span style=\"font-weight: bold\">       Param # </span>┃\n",
              "┡━━━━━━━━━━━━━━━━━━━━━━━━━━━━━━━━━╇━━━━━━━━━━━━━━━━━━━━━━━━╇━━━━━━━━━━━━━━━┩\n",
              "│ lstm (<span style=\"color: #0087ff; text-decoration-color: #0087ff\">LSTM</span>)                     │ (<span style=\"color: #00d7ff; text-decoration-color: #00d7ff\">None</span>, <span style=\"color: #00af00; text-decoration-color: #00af00\">144</span>, <span style=\"color: #00af00; text-decoration-color: #00af00\">128</span>)       │        <span style=\"color: #00af00; text-decoration-color: #00af00\">76,288</span> │\n",
              "├─────────────────────────────────┼────────────────────────┼───────────────┤\n",
              "│ dropout (<span style=\"color: #0087ff; text-decoration-color: #0087ff\">Dropout</span>)               │ (<span style=\"color: #00d7ff; text-decoration-color: #00d7ff\">None</span>, <span style=\"color: #00af00; text-decoration-color: #00af00\">144</span>, <span style=\"color: #00af00; text-decoration-color: #00af00\">128</span>)       │             <span style=\"color: #00af00; text-decoration-color: #00af00\">0</span> │\n",
              "├─────────────────────────────────┼────────────────────────┼───────────────┤\n",
              "│ lstm_1 (<span style=\"color: #0087ff; text-decoration-color: #0087ff\">LSTM</span>)                   │ (<span style=\"color: #00d7ff; text-decoration-color: #00d7ff\">None</span>, <span style=\"color: #00af00; text-decoration-color: #00af00\">144</span>, <span style=\"color: #00af00; text-decoration-color: #00af00\">64</span>)        │        <span style=\"color: #00af00; text-decoration-color: #00af00\">49,408</span> │\n",
              "├─────────────────────────────────┼────────────────────────┼───────────────┤\n",
              "│ dropout_1 (<span style=\"color: #0087ff; text-decoration-color: #0087ff\">Dropout</span>)             │ (<span style=\"color: #00d7ff; text-decoration-color: #00d7ff\">None</span>, <span style=\"color: #00af00; text-decoration-color: #00af00\">144</span>, <span style=\"color: #00af00; text-decoration-color: #00af00\">64</span>)        │             <span style=\"color: #00af00; text-decoration-color: #00af00\">0</span> │\n",
              "├─────────────────────────────────┼────────────────────────┼───────────────┤\n",
              "│ lstm_2 (<span style=\"color: #0087ff; text-decoration-color: #0087ff\">LSTM</span>)                   │ (<span style=\"color: #00d7ff; text-decoration-color: #00d7ff\">None</span>, <span style=\"color: #00af00; text-decoration-color: #00af00\">144</span>, <span style=\"color: #00af00; text-decoration-color: #00af00\">32</span>)        │        <span style=\"color: #00af00; text-decoration-color: #00af00\">12,416</span> │\n",
              "├─────────────────────────────────┼────────────────────────┼───────────────┤\n",
              "│ dropout_2 (<span style=\"color: #0087ff; text-decoration-color: #0087ff\">Dropout</span>)             │ (<span style=\"color: #00d7ff; text-decoration-color: #00d7ff\">None</span>, <span style=\"color: #00af00; text-decoration-color: #00af00\">144</span>, <span style=\"color: #00af00; text-decoration-color: #00af00\">32</span>)        │             <span style=\"color: #00af00; text-decoration-color: #00af00\">0</span> │\n",
              "├─────────────────────────────────┼────────────────────────┼───────────────┤\n",
              "│ lstm_3 (<span style=\"color: #0087ff; text-decoration-color: #0087ff\">LSTM</span>)                   │ (<span style=\"color: #00d7ff; text-decoration-color: #00d7ff\">None</span>, <span style=\"color: #00af00; text-decoration-color: #00af00\">16</span>)             │         <span style=\"color: #00af00; text-decoration-color: #00af00\">3,136</span> │\n",
              "├─────────────────────────────────┼────────────────────────┼───────────────┤\n",
              "│ dropout_3 (<span style=\"color: #0087ff; text-decoration-color: #0087ff\">Dropout</span>)             │ (<span style=\"color: #00d7ff; text-decoration-color: #00d7ff\">None</span>, <span style=\"color: #00af00; text-decoration-color: #00af00\">16</span>)             │             <span style=\"color: #00af00; text-decoration-color: #00af00\">0</span> │\n",
              "├─────────────────────────────────┼────────────────────────┼───────────────┤\n",
              "│ layer_normalization             │ (<span style=\"color: #00d7ff; text-decoration-color: #00d7ff\">None</span>, <span style=\"color: #00af00; text-decoration-color: #00af00\">16</span>)             │            <span style=\"color: #00af00; text-decoration-color: #00af00\">32</span> │\n",
              "│ (<span style=\"color: #0087ff; text-decoration-color: #0087ff\">LayerNormalization</span>)            │                        │               │\n",
              "├─────────────────────────────────┼────────────────────────┼───────────────┤\n",
              "│ dense (<span style=\"color: #0087ff; text-decoration-color: #0087ff\">Dense</span>)                   │ (<span style=\"color: #00d7ff; text-decoration-color: #00d7ff\">None</span>, <span style=\"color: #00af00; text-decoration-color: #00af00\">1</span>)              │            <span style=\"color: #00af00; text-decoration-color: #00af00\">17</span> │\n",
              "└─────────────────────────────────┴────────────────────────┴───────────────┘\n",
              "</pre>\n"
            ]
          },
          "metadata": {}
        },
        {
          "output_type": "display_data",
          "data": {
            "text/plain": [
              "\u001b[1m Total params: \u001b[0m\u001b[38;5;34m423,893\u001b[0m (1.62 MB)\n"
            ],
            "text/html": [
              "<pre style=\"white-space:pre;overflow-x:auto;line-height:normal;font-family:Menlo,'DejaVu Sans Mono',consolas,'Courier New',monospace\"><span style=\"font-weight: bold\"> Total params: </span><span style=\"color: #00af00; text-decoration-color: #00af00\">423,893</span> (1.62 MB)\n",
              "</pre>\n"
            ]
          },
          "metadata": {}
        },
        {
          "output_type": "display_data",
          "data": {
            "text/plain": [
              "\u001b[1m Trainable params: \u001b[0m\u001b[38;5;34m141,297\u001b[0m (551.94 KB)\n"
            ],
            "text/html": [
              "<pre style=\"white-space:pre;overflow-x:auto;line-height:normal;font-family:Menlo,'DejaVu Sans Mono',consolas,'Courier New',monospace\"><span style=\"font-weight: bold\"> Trainable params: </span><span style=\"color: #00af00; text-decoration-color: #00af00\">141,297</span> (551.94 KB)\n",
              "</pre>\n"
            ]
          },
          "metadata": {}
        },
        {
          "output_type": "display_data",
          "data": {
            "text/plain": [
              "\u001b[1m Non-trainable params: \u001b[0m\u001b[38;5;34m0\u001b[0m (0.00 B)\n"
            ],
            "text/html": [
              "<pre style=\"white-space:pre;overflow-x:auto;line-height:normal;font-family:Menlo,'DejaVu Sans Mono',consolas,'Courier New',monospace\"><span style=\"font-weight: bold\"> Non-trainable params: </span><span style=\"color: #00af00; text-decoration-color: #00af00\">0</span> (0.00 B)\n",
              "</pre>\n"
            ]
          },
          "metadata": {}
        },
        {
          "output_type": "display_data",
          "data": {
            "text/plain": [
              "\u001b[1m Optimizer params: \u001b[0m\u001b[38;5;34m282,596\u001b[0m (1.08 MB)\n"
            ],
            "text/html": [
              "<pre style=\"white-space:pre;overflow-x:auto;line-height:normal;font-family:Menlo,'DejaVu Sans Mono',consolas,'Courier New',monospace\"><span style=\"font-weight: bold\"> Optimizer params: </span><span style=\"color: #00af00; text-decoration-color: #00af00\">282,596</span> (1.08 MB)\n",
              "</pre>\n"
            ]
          },
          "metadata": {}
        }
      ]
    }
  ],
  "metadata": {
    "colab": {
      "provenance": [],
      "authorship_tag": "ABX9TyNCUU9TXUwVsGx4ymzlRW/c",
      "include_colab_link": true
    },
    "kernelspec": {
      "display_name": "Python 3",
      "name": "python3"
    },
    "language_info": {
      "name": "python"
    }
  },
  "nbformat": 4,
  "nbformat_minor": 0
}